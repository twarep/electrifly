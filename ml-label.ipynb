{
 "cells": [
  {
   "cell_type": "code",
   "execution_count": 1,
   "metadata": {},
   "outputs": [],
   "source": [
    "import numpy as np\n",
    "import pandas as pd\n",
    "import matplotlib.pyplot as plt\n",
    "from dotenv import load_dotenv\n",
    "import os\n",
    "from os import listdir, getenv\n",
    "import sqlalchemy as sa\n",
    "from sklearn.model_selection import train_test_split\n",
    "from sklearn.preprocessing import LabelEncoder"
   ]
  },
  {
   "cell_type": "code",
   "execution_count": 2,
   "metadata": {},
   "outputs": [],
   "source": [
    "# Import the querying module\n",
    "from flight_querying import query_flights\n",
    "import pandas as pd\n",
    "\n",
    "# Set up and retrieve the data from the database.\n",
    "db_connect = query_flights()"
   ]
  },
  {
   "cell_type": "code",
   "execution_count": 3,
   "metadata": {},
   "outputs": [],
   "source": [
    "# Flight IDs to include\n",
    "flight_ids = [4620, 4929, 4940, 5019, 5021, 5034]\n",
    "\n",
    "# Fetch data for specified flight IDs\n",
    "data_frames = [db_connect.connect_flight_for_ml_data_label(flight_id) for flight_id in flight_ids]\n",
    "\n",
    "# Concatenate data frames and shuffle the data\n",
    "all_data = pd.concat(data_frames, axis=0).sample(frac=1, random_state=42).dropna()"
   ]
  },
  {
   "cell_type": "code",
   "execution_count": 4,
   "metadata": {},
   "outputs": [
    {
     "data": {
      "text/html": [
       "<div>\n",
       "<style scoped>\n",
       "    .dataframe tbody tr th:only-of-type {\n",
       "        vertical-align: middle;\n",
       "    }\n",
       "\n",
       "    .dataframe tbody tr th {\n",
       "        vertical-align: top;\n",
       "    }\n",
       "\n",
       "    .dataframe thead th {\n",
       "        text-align: right;\n",
       "    }\n",
       "</style>\n",
       "<table border=\"1\" class=\"dataframe\">\n",
       "  <thead>\n",
       "    <tr style=\"text-align: right;\">\n",
       "      <th></th>\n",
       "      <th>id</th>\n",
       "      <th>time</th>\n",
       "      <th>soc</th>\n",
       "      <th>cell_temperature</th>\n",
       "      <th>motor_rpm</th>\n",
       "      <th>motor_power</th>\n",
       "      <th>motor_temperature</th>\n",
       "      <th>indicated_air_speed</th>\n",
       "      <th>pressure_altitude</th>\n",
       "      <th>ground_speed</th>\n",
       "      <th>outside_air_temperature</th>\n",
       "      <th>inverter_temperature</th>\n",
       "      <th>pitch</th>\n",
       "      <th>roll</th>\n",
       "      <th>exercise</th>\n",
       "      <th>y</th>\n",
       "    </tr>\n",
       "  </thead>\n",
       "  <tbody>\n",
       "    <tr>\n",
       "      <th>1214</th>\n",
       "      <td>4929</td>\n",
       "      <td>24.28</td>\n",
       "      <td>66.5</td>\n",
       "      <td>17.5</td>\n",
       "      <td>1961.583333</td>\n",
       "      <td>23.000000</td>\n",
       "      <td>43.742027</td>\n",
       "      <td>75.025423</td>\n",
       "      <td>783.050156</td>\n",
       "      <td>79.400000</td>\n",
       "      <td>14.0</td>\n",
       "      <td>33.380940</td>\n",
       "      <td>0.017464</td>\n",
       "      <td>0.466837</td>\n",
       "      <td>cruise</td>\n",
       "      <td>2</td>\n",
       "    </tr>\n",
       "    <tr>\n",
       "      <th>1920</th>\n",
       "      <td>4940</td>\n",
       "      <td>38.40</td>\n",
       "      <td>42.5</td>\n",
       "      <td>23.0</td>\n",
       "      <td>1103.666667</td>\n",
       "      <td>0.000000</td>\n",
       "      <td>41.338358</td>\n",
       "      <td>74.469576</td>\n",
       "      <td>431.576482</td>\n",
       "      <td>53.450000</td>\n",
       "      <td>22.5</td>\n",
       "      <td>33.106204</td>\n",
       "      <td>-3.551373</td>\n",
       "      <td>9.770128</td>\n",
       "      <td>NA</td>\n",
       "      <td>0</td>\n",
       "    </tr>\n",
       "    <tr>\n",
       "      <th>4214</th>\n",
       "      <td>4940</td>\n",
       "      <td>39.64</td>\n",
       "      <td>42.5</td>\n",
       "      <td>23.0</td>\n",
       "      <td>351.083333</td>\n",
       "      <td>0.000000</td>\n",
       "      <td>39.889447</td>\n",
       "      <td>35.253217</td>\n",
       "      <td>317.794220</td>\n",
       "      <td>18.416667</td>\n",
       "      <td>23.0</td>\n",
       "      <td>33.762506</td>\n",
       "      <td>2.064351</td>\n",
       "      <td>-1.367186</td>\n",
       "      <td>landing</td>\n",
       "      <td>4</td>\n",
       "    </tr>\n",
       "    <tr>\n",
       "      <th>583</th>\n",
       "      <td>5021</td>\n",
       "      <td>11.66</td>\n",
       "      <td>92.5</td>\n",
       "      <td>18.0</td>\n",
       "      <td>2282.500000</td>\n",
       "      <td>47.166667</td>\n",
       "      <td>44.556083</td>\n",
       "      <td>75.003683</td>\n",
       "      <td>549.130814</td>\n",
       "      <td>45.983333</td>\n",
       "      <td>11.0</td>\n",
       "      <td>35.388976</td>\n",
       "      <td>7.095505</td>\n",
       "      <td>-14.472788</td>\n",
       "      <td>climb</td>\n",
       "      <td>1</td>\n",
       "    </tr>\n",
       "    <tr>\n",
       "      <th>2790</th>\n",
       "      <td>5034</td>\n",
       "      <td>0.82</td>\n",
       "      <td>100.0</td>\n",
       "      <td>18.0</td>\n",
       "      <td>0.000000</td>\n",
       "      <td>0.000000</td>\n",
       "      <td>15.123765</td>\n",
       "      <td>0.000000</td>\n",
       "      <td>323.046374</td>\n",
       "      <td>0.000000</td>\n",
       "      <td>16.0</td>\n",
       "      <td>19.881319</td>\n",
       "      <td>2.607737</td>\n",
       "      <td>0.512978</td>\n",
       "      <td>NA</td>\n",
       "      <td>0</td>\n",
       "    </tr>\n",
       "  </tbody>\n",
       "</table>\n",
       "</div>"
      ],
      "text/plain": [
       "        id   time    soc  cell_temperature    motor_rpm  motor_power  \\\n",
       "1214  4929  24.28   66.5              17.5  1961.583333    23.000000   \n",
       "1920  4940  38.40   42.5              23.0  1103.666667     0.000000   \n",
       "4214  4940  39.64   42.5              23.0   351.083333     0.000000   \n",
       "583   5021  11.66   92.5              18.0  2282.500000    47.166667   \n",
       "2790  5034   0.82  100.0              18.0     0.000000     0.000000   \n",
       "\n",
       "      motor_temperature  indicated_air_speed  pressure_altitude  ground_speed  \\\n",
       "1214          43.742027            75.025423         783.050156     79.400000   \n",
       "1920          41.338358            74.469576         431.576482     53.450000   \n",
       "4214          39.889447            35.253217         317.794220     18.416667   \n",
       "583           44.556083            75.003683         549.130814     45.983333   \n",
       "2790          15.123765             0.000000         323.046374      0.000000   \n",
       "\n",
       "      outside_air_temperature  inverter_temperature     pitch       roll  \\\n",
       "1214                     14.0             33.380940  0.017464   0.466837   \n",
       "1920                     22.5             33.106204 -3.551373   9.770128   \n",
       "4214                     23.0             33.762506  2.064351  -1.367186   \n",
       "583                      11.0             35.388976  7.095505 -14.472788   \n",
       "2790                     16.0             19.881319  2.607737   0.512978   \n",
       "\n",
       "     exercise  y  \n",
       "1214   cruise  2  \n",
       "1920       NA  0  \n",
       "4214  landing  4  \n",
       "583     climb  1  \n",
       "2790       NA  0  "
      ]
     },
     "execution_count": 4,
     "metadata": {},
     "output_type": "execute_result"
    }
   ],
   "source": [
    "#multi-nomial encoding \n",
    "le = LabelEncoder()\n",
    "all_data['y'] = le.fit_transform(all_data['exercise'])\n",
    "all_data.head()"
   ]
  },
  {
   "cell_type": "code",
   "execution_count": 5,
   "metadata": {},
   "outputs": [
    {
     "name": "stdout",
     "output_type": "stream",
     "text": [
      "Encoded classes: ['NA' 'climb' 'cruise' 'descent' 'landing' 'power off stall'\n",
      " 'power on stall' 'slow flight' 'steep turns' 'takeoff']\n",
      "Encoded labels: [0 1 2 3 4 5 6 7 8 9]\n"
     ]
    }
   ],
   "source": [
    "print(\"Encoded classes:\", le.classes_)\n",
    "labels=['NA', 'climb', 'cruise', 'descent', 'landing', 'power off stall',\n",
    " 'power on stall', 'slow flight', 'steep turns', 'takeoff']\n",
    "print(\"Encoded labels:\", le.transform(labels))"
   ]
  },
  {
   "cell_type": "code",
   "execution_count": 6,
   "metadata": {},
   "outputs": [],
   "source": [
    "# Split the data into train and test sets\n",
    "train_data, test_data = train_test_split(all_data, test_size=0.1, random_state=42)\n",
    "\n",
    "# Set up train data\n",
    "train_y = train_data[\"y\"].to_numpy()\n",
    "train_x = train_data.drop(columns=[\"exercise\",\"id\", \"y\"])\n",
    "\n",
    "# Set up test data\n",
    "test_y = test_data[\"y\"].to_numpy()\n",
    "test_x = test_data.drop(columns=[\"exercise\", \"id\",\"y\"])"
   ]
  },
  {
   "cell_type": "code",
   "execution_count": 7,
   "metadata": {},
   "outputs": [
    {
     "name": "stdout",
     "output_type": "stream",
     "text": [
      "Length train_x = 26532 \n",
      " Length train_y = 26532\n",
      "Length test_x = 2948 \n",
      " Length test_y = 2948\n"
     ]
    }
   ],
   "source": [
    "print(f\"Length train_x = {len(train_x)} \\n Length train_y = {len(train_y)}\")\n",
    "print(f\"Length test_x = {len(test_x)} \\n Length test_y = {len(test_y)}\")"
   ]
  },
  {
   "cell_type": "code",
   "execution_count": 8,
   "metadata": {},
   "outputs": [],
   "source": [
    "import pandas as pd\n",
    "from sklearn.model_selection import train_test_split\n",
    "from sklearn.linear_model import LogisticRegression\n",
    "from sklearn.metrics import accuracy_score, classification_report"
   ]
  },
  {
   "cell_type": "code",
   "execution_count": 9,
   "metadata": {},
   "outputs": [
    {
     "name": "stderr",
     "output_type": "stream",
     "text": [
      "c:\\Users\\vikyb\\Desktop\\msci_401_402\\electrifly\\venv\\lib\\site-packages\\sklearn\\linear_model\\_logistic.py:460: ConvergenceWarning: lbfgs failed to converge (status=1):\n",
      "STOP: TOTAL NO. of ITERATIONS REACHED LIMIT.\n",
      "\n",
      "Increase the number of iterations (max_iter) or scale the data as shown in:\n",
      "    https://scikit-learn.org/stable/modules/preprocessing.html\n",
      "Please also refer to the documentation for alternative solver options:\n",
      "    https://scikit-learn.org/stable/modules/linear_model.html#logistic-regression\n",
      "  n_iter_i = _check_optimize_result(\n"
     ]
    },
    {
     "data": {
      "text/html": [
       "<style>#sk-container-id-1 {color: black;}#sk-container-id-1 pre{padding: 0;}#sk-container-id-1 div.sk-toggleable {background-color: white;}#sk-container-id-1 label.sk-toggleable__label {cursor: pointer;display: block;width: 100%;margin-bottom: 0;padding: 0.3em;box-sizing: border-box;text-align: center;}#sk-container-id-1 label.sk-toggleable__label-arrow:before {content: \"▸\";float: left;margin-right: 0.25em;color: #696969;}#sk-container-id-1 label.sk-toggleable__label-arrow:hover:before {color: black;}#sk-container-id-1 div.sk-estimator:hover label.sk-toggleable__label-arrow:before {color: black;}#sk-container-id-1 div.sk-toggleable__content {max-height: 0;max-width: 0;overflow: hidden;text-align: left;background-color: #f0f8ff;}#sk-container-id-1 div.sk-toggleable__content pre {margin: 0.2em;color: black;border-radius: 0.25em;background-color: #f0f8ff;}#sk-container-id-1 input.sk-toggleable__control:checked~div.sk-toggleable__content {max-height: 200px;max-width: 100%;overflow: auto;}#sk-container-id-1 input.sk-toggleable__control:checked~label.sk-toggleable__label-arrow:before {content: \"▾\";}#sk-container-id-1 div.sk-estimator input.sk-toggleable__control:checked~label.sk-toggleable__label {background-color: #d4ebff;}#sk-container-id-1 div.sk-label input.sk-toggleable__control:checked~label.sk-toggleable__label {background-color: #d4ebff;}#sk-container-id-1 input.sk-hidden--visually {border: 0;clip: rect(1px 1px 1px 1px);clip: rect(1px, 1px, 1px, 1px);height: 1px;margin: -1px;overflow: hidden;padding: 0;position: absolute;width: 1px;}#sk-container-id-1 div.sk-estimator {font-family: monospace;background-color: #f0f8ff;border: 1px dotted black;border-radius: 0.25em;box-sizing: border-box;margin-bottom: 0.5em;}#sk-container-id-1 div.sk-estimator:hover {background-color: #d4ebff;}#sk-container-id-1 div.sk-parallel-item::after {content: \"\";width: 100%;border-bottom: 1px solid gray;flex-grow: 1;}#sk-container-id-1 div.sk-label:hover label.sk-toggleable__label {background-color: #d4ebff;}#sk-container-id-1 div.sk-serial::before {content: \"\";position: absolute;border-left: 1px solid gray;box-sizing: border-box;top: 0;bottom: 0;left: 50%;z-index: 0;}#sk-container-id-1 div.sk-serial {display: flex;flex-direction: column;align-items: center;background-color: white;padding-right: 0.2em;padding-left: 0.2em;position: relative;}#sk-container-id-1 div.sk-item {position: relative;z-index: 1;}#sk-container-id-1 div.sk-parallel {display: flex;align-items: stretch;justify-content: center;background-color: white;position: relative;}#sk-container-id-1 div.sk-item::before, #sk-container-id-1 div.sk-parallel-item::before {content: \"\";position: absolute;border-left: 1px solid gray;box-sizing: border-box;top: 0;bottom: 0;left: 50%;z-index: -1;}#sk-container-id-1 div.sk-parallel-item {display: flex;flex-direction: column;z-index: 1;position: relative;background-color: white;}#sk-container-id-1 div.sk-parallel-item:first-child::after {align-self: flex-end;width: 50%;}#sk-container-id-1 div.sk-parallel-item:last-child::after {align-self: flex-start;width: 50%;}#sk-container-id-1 div.sk-parallel-item:only-child::after {width: 0;}#sk-container-id-1 div.sk-dashed-wrapped {border: 1px dashed gray;margin: 0 0.4em 0.5em 0.4em;box-sizing: border-box;padding-bottom: 0.4em;background-color: white;}#sk-container-id-1 div.sk-label label {font-family: monospace;font-weight: bold;display: inline-block;line-height: 1.2em;}#sk-container-id-1 div.sk-label-container {text-align: center;}#sk-container-id-1 div.sk-container {/* jupyter's `normalize.less` sets `[hidden] { display: none; }` but bootstrap.min.css set `[hidden] { display: none !important; }` so we also need the `!important` here to be able to override the default hidden behavior on the sphinx rendered scikit-learn.org. See: https://github.com/scikit-learn/scikit-learn/issues/21755 */display: inline-block !important;position: relative;}#sk-container-id-1 div.sk-text-repr-fallback {display: none;}</style><div id=\"sk-container-id-1\" class=\"sk-top-container\"><div class=\"sk-text-repr-fallback\"><pre>LogisticRegression(multi_class=&#x27;multinomial&#x27;)</pre><b>In a Jupyter environment, please rerun this cell to show the HTML representation or trust the notebook. <br />On GitHub, the HTML representation is unable to render, please try loading this page with nbviewer.org.</b></div><div class=\"sk-container\" hidden><div class=\"sk-item\"><div class=\"sk-estimator sk-toggleable\"><input class=\"sk-toggleable__control sk-hidden--visually\" id=\"sk-estimator-id-1\" type=\"checkbox\" checked><label for=\"sk-estimator-id-1\" class=\"sk-toggleable__label sk-toggleable__label-arrow\">LogisticRegression</label><div class=\"sk-toggleable__content\"><pre>LogisticRegression(multi_class=&#x27;multinomial&#x27;)</pre></div></div></div></div></div>"
      ],
      "text/plain": [
       "LogisticRegression(multi_class='multinomial')"
      ]
     },
     "execution_count": 9,
     "metadata": {},
     "output_type": "execute_result"
    }
   ],
   "source": [
    "model = LogisticRegression(multi_class='multinomial', solver='lbfgs')\n",
    "model.fit(train_x, train_y)"
   ]
  },
  {
   "cell_type": "code",
   "execution_count": 10,
   "metadata": {},
   "outputs": [
    {
     "name": "stdout",
     "output_type": "stream",
     "text": [
      "Accuracy: 0.75\n",
      "Classification Report:\n",
      "              precision    recall  f1-score   support\n",
      "\n",
      "           0       0.90      0.89      0.90      1071\n",
      "           1       0.82      0.70      0.76       296\n",
      "           2       0.65      0.91      0.76       723\n",
      "           3       0.40      0.20      0.27       219\n",
      "           4       0.70      0.72      0.71       297\n",
      "           5       0.67      0.67      0.67        27\n",
      "           6       0.00      0.00      0.00         7\n",
      "           7       0.00      0.00      0.00        72\n",
      "           8       0.59      0.18      0.27       112\n",
      "           9       0.89      0.88      0.89       124\n",
      "\n",
      "    accuracy                           0.75      2948\n",
      "   macro avg       0.56      0.51      0.52      2948\n",
      "weighted avg       0.74      0.75      0.73      2948\n",
      "\n"
     ]
    },
    {
     "name": "stderr",
     "output_type": "stream",
     "text": [
      "c:\\Users\\vikyb\\Desktop\\msci_401_402\\electrifly\\venv\\lib\\site-packages\\sklearn\\metrics\\_classification.py:1471: UndefinedMetricWarning: Precision and F-score are ill-defined and being set to 0.0 in labels with no predicted samples. Use `zero_division` parameter to control this behavior.\n",
      "  _warn_prf(average, modifier, msg_start, len(result))\n",
      "c:\\Users\\vikyb\\Desktop\\msci_401_402\\electrifly\\venv\\lib\\site-packages\\sklearn\\metrics\\_classification.py:1471: UndefinedMetricWarning: Precision and F-score are ill-defined and being set to 0.0 in labels with no predicted samples. Use `zero_division` parameter to control this behavior.\n",
      "  _warn_prf(average, modifier, msg_start, len(result))\n",
      "c:\\Users\\vikyb\\Desktop\\msci_401_402\\electrifly\\venv\\lib\\site-packages\\sklearn\\metrics\\_classification.py:1471: UndefinedMetricWarning: Precision and F-score are ill-defined and being set to 0.0 in labels with no predicted samples. Use `zero_division` parameter to control this behavior.\n",
      "  _warn_prf(average, modifier, msg_start, len(result))\n"
     ]
    }
   ],
   "source": [
    "# Make predictions on the test set\n",
    "predictions = model.predict(test_x)\n",
    "\n",
    "# Evaluate the model\n",
    "accuracy = accuracy_score(test_y, predictions)\n",
    "print(f\"Accuracy: {accuracy:.2f}\")\n",
    "\n",
    "# Display additional classification metrics\n",
    "print(\"Classification Report:\")\n",
    "print(classification_report(test_y, predictions))"
   ]
  },
  {
   "cell_type": "markdown",
   "metadata": {},
   "source": [
    "## Saving & Loading The Model"
   ]
  },
  {
   "cell_type": "code",
   "execution_count": 11,
   "metadata": {},
   "outputs": [
    {
     "name": "stdout",
     "output_type": "stream",
     "text": [
      "Model saved to ML_model_outputs/multinomial_logreg_model.joblib\n"
     ]
    }
   ],
   "source": [
    "import joblib\n",
    "\n",
    "# Assuming you've trained and named your Logistic Regression model 'logreg_model'\n",
    "\n",
    "# Save the model to a file\n",
    "model_filename = 'ML_model_outputs/multinomial_logreg_model.joblib'\n",
    "joblib.dump(model, model_filename)\n",
    "\n",
    "print(f\"Model saved to {model_filename}\")\n"
   ]
  },
  {
   "cell_type": "markdown",
   "metadata": {},
   "source": [
    "# Labelling all flights with the model created above"
   ]
  },
  {
   "cell_type": "code",
   "execution_count": 12,
   "metadata": {},
   "outputs": [],
   "source": [
    "# Import the querying module\n",
    "from flight_querying import query_flights\n",
    "import pandas as pd\n",
    "\n",
    "# Set up and retrieve the data from the database.\n",
    "db_connect = query_flights()"
   ]
  },
  {
   "cell_type": "code",
   "execution_count": 13,
   "metadata": {},
   "outputs": [],
   "source": [
    "# import model to label new data\n",
    "import joblib\n",
    "model_filename = 'ML_model_outputs/multinomial_logreg_model.joblib'\n",
    "model = joblib.load(model_filename)"
   ]
  },
  {
   "cell_type": "code",
   "execution_count": 14,
   "metadata": {},
   "outputs": [],
   "source": [
    "# query the list of flight ids excluding these six which are already labelled\n",
    "flight_ids = db_connect.get_flight_ids()\n",
    "flight_ids = flight_ids['id'].to_list()\n",
    "manually_labelled_ids = [4620, 4929, 4940, 5019, 5021, 5034]\n",
    "\n",
    "# remove the manually_labelled_ids from the list \n",
    "flight_ids = [id for id in flight_ids if id not in manually_labelled_ids]"
   ]
  },
  {
   "cell_type": "code",
   "execution_count": 15,
   "metadata": {},
   "outputs": [],
   "source": [
    "# Fetch data for specified flight IDs # first id in list is 5367\n",
    "data_frames = [db_connect.get_flightdata_for_ml_data_label(flight_id) for flight_id in flight_ids]\n",
    "\n",
    "# Concatenate data frames\n",
    "x = pd.concat(data_frames, axis=0).dropna()"
   ]
  },
  {
   "cell_type": "code",
   "execution_count": 16,
   "metadata": {},
   "outputs": [],
   "source": [
    "# drop id column for model prediction\n",
    "id_column = x[['id']]\n",
    "x = x.drop(columns=[\"id\"])"
   ]
  },
  {
   "cell_type": "code",
   "execution_count": 17,
   "metadata": {},
   "outputs": [],
   "source": [
    "# Make predictions on the test set\n",
    "predictions = model.predict(x)"
   ]
  },
  {
   "cell_type": "code",
   "execution_count": 18,
   "metadata": {},
   "outputs": [],
   "source": [
    "# insert the predicted values back into the x dataframe\n",
    "x['activity'] = predictions\n",
    "x['flight_id'] = id_column"
   ]
  },
  {
   "cell_type": "code",
   "execution_count": 19,
   "metadata": {},
   "outputs": [],
   "source": [
    "# replace values in activity column with their string activity mapping\n",
    "labels = ['NA', 'climb', 'cruise', 'descent', 'landing', 'power off stall',\n",
    "          'power on stall', 'slow flight', 'steep turns', 'takeoff']\n",
    "x['activity'] = x['activity'].map(lambda x: labels[x])"
   ]
  },
  {
   "cell_type": "code",
   "execution_count": 20,
   "metadata": {},
   "outputs": [],
   "source": [
    "# trim all columns except for the ones in flight_activities table\n",
    "flight_activities_data = x[['flight_id', 'time', 'activity']]\n",
    "flight_activities_data = flight_activities_data.rename(columns={\"time\": \"time_min\"})\n",
    "flight_activities_data.head()\n",
    "\n",
    "# push the updated data to the flight_activities table\n",
    "engine = db_connect.connect()\n",
    "flight_activities_data.to_sql('flight_activities', engine, if_exists='append', index=False)\n",
    "engine.dispose()"
   ]
  }
 ],
 "metadata": {
  "kernelspec": {
   "display_name": "venv",
   "language": "python",
   "name": "python3"
  },
  "language_info": {
   "codemirror_mode": {
    "name": "ipython",
    "version": 3
   },
   "file_extension": ".py",
   "mimetype": "text/x-python",
   "name": "python",
   "nbconvert_exporter": "python",
   "pygments_lexer": "ipython3",
   "version": "3.10.11"
  }
 },
 "nbformat": 4,
 "nbformat_minor": 2
}
